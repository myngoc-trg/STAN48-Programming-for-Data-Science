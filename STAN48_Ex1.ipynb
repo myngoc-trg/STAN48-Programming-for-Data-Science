{
 "cells": [
  {
   "cell_type": "code",
   "execution_count": 1,
   "metadata": {},
   "outputs": [],
   "source": [
    "# bankaccount, deposit, withdraw, transfer, apply interest, record trough trasanction as dictionary including action, amount, balance, time, history, \n",
    "# extended version: bank, create account, get account, transfer, total assets, list accounts,\n"
   ]
  },
  {
   "cell_type": "code",
   "execution_count": 4,
   "metadata": {},
   "outputs": [
    {
     "name": "stdout",
     "output_type": "stream",
     "text": [
      "Import libraries sucessfully\n"
     ]
    }
   ],
   "source": [
    "import numpy as np\n",
    "import datetime\n",
    "\n",
    "print(\"Import libraries sucessfully\")"
   ]
  },
  {
   "cell_type": "code",
   "execution_count": 6,
   "metadata": {},
   "outputs": [
    {
     "data": {
      "text/plain": [
       "'2025/09/04, 13:59:40'"
      ]
     },
     "execution_count": 6,
     "metadata": {},
     "output_type": "execute_result"
    }
   ],
   "source": [
    "datetime.datetime.now().strftime(\"%Y/%m/%d, %H:%M:%S\")"
   ]
  },
  {
   "cell_type": "markdown",
   "metadata": {},
   "source": []
  },
  {
   "cell_type": "code",
   "execution_count": 92,
   "metadata": {},
   "outputs": [],
   "source": [
    "class BankAccount():\n",
    "    bank_name = \"My madeup bank\"\n",
    "    annual_interest_rate = 0.2\n",
    "\n",
    "    def __init__(self, owner: str, account_type: str, balance=0):\n",
    "        self.owner = owner\n",
    "        self.account_type = account_type.lower()\n",
    "        self.balance = balance\n",
    "        self.transactions = [] #to store transaction history\n",
    "\n",
    "    def deposit(self, amount):\n",
    "        if amount <= 0:\n",
    "            return \"Deposit amount has to be positve number!\"\n",
    "        \n",
    "        self.balance += amount\n",
    "        self.record(action_type=\"deposit\",amount=amount)\n",
    "\n",
    "    def withdraw(self, amount):\n",
    "        if amount <= 0:\n",
    "            return \"Withdraw amount has to be positve number!\"\n",
    "        if amount > self.balance:\n",
    "            return f\"Not enough money remaining! Current balance: {self.balance}.\"\n",
    "        \n",
    "        self.balance -= amount\n",
    "        self.record(action_type=\"withdraw\",amount=amount) \n",
    "\n",
    "    def transfer(self, target_account, amount):\n",
    "        if not isinstance(target_account, BankAccount):\n",
    "            return \"Target account must be a bank account\"\n",
    "        if amount <= 0:\n",
    "            return \"Transfer amount has to be positve number!\"\n",
    "        if amount > self.balance:\n",
    "            return f\"Not enough money remaining! Current balance: {self.balance}.\"\n",
    "        \n",
    "        target_account.deposit(amount)\n",
    "        target_account.record(action_type=f\"transfer from {self.owner}\",amount=amount)\n",
    "        self.balance -= amount\n",
    "        self.record(action_type=f\"transfer to {target_account}\",amount=amount)\n",
    "\n",
    "    def apply_interest(self):\n",
    "        # apply interest rate on savings account\n",
    "        if self.account_type == \"savings\":\n",
    "            interest = self.balance * annual_interest_rate\n",
    "            self.balance += interest\n",
    "        \n",
    "        elif self.account_type == \"morgage_loan\":\n",
    "            interest = self.balance * (annual_interest_rate*2)\n",
    "            self.balance += interest\n",
    "        \n",
    "        elif self.account_type == \"private_loan\":\n",
    "            interest = self.balance * (annual_interest_rate * 5)\n",
    "    \n",
    "    def record(self, action_type, amount):\n",
    "        return self.transactions.append({\n",
    "            'Action': action_type,\n",
    "            'Amount': amount,\n",
    "            'Balance': self.balance,\n",
    "            'Time': datetime.datetime.now().strftime(\"%Y/%m/%d, %H:%M:%S\")\n",
    "        })\n",
    "    \n",
    "    def last_history(self, n_last):\n",
    "        n = len(self.transactions)\n",
    "        if n_last > n:\n",
    "            n_last = n\n",
    "\n",
    "        for action in self.transactions:\n",
    "            print(\"\\n--------------------------------------------------------------------\")\n",
    "            for key, val in action.items():\n",
    "                print(f\"{key}: {val}\\n\")\n",
    "\n",
    "     \n",
    "    def __str__(self):\n",
    "        return f\"Bank account of {self.owner} | Account type: {self.account_type} | Balance: {self.balance}.\"\n",
    "\n",
    "\n",
    "    \n",
    "        \n",
    "\n",
    "\n",
    "\n"
   ]
  },
  {
   "cell_type": "code",
   "execution_count": 93,
   "metadata": {},
   "outputs": [
    {
     "name": "stdout",
     "output_type": "stream",
     "text": [
      "Bank account of My Ngoc Truong | Account type: standard | Balance: 100.\n"
     ]
    }
   ],
   "source": [
    "my_acc = BankAccount(\"My Ngoc Truong\", account_type=\"standard\", balance=100)\n",
    "print(my_acc)"
   ]
  },
  {
   "cell_type": "code",
   "execution_count": 94,
   "metadata": {},
   "outputs": [
    {
     "name": "stdout",
     "output_type": "stream",
     "text": [
      "Bank account of My Ngoc Truong | Account type: standard | Balance: 1100.\n"
     ]
    }
   ],
   "source": [
    "my_acc.deposit(1000)\n",
    "print(my_acc)"
   ]
  },
  {
   "cell_type": "code",
   "execution_count": 95,
   "metadata": {},
   "outputs": [
    {
     "name": "stdout",
     "output_type": "stream",
     "text": [
      "\n",
      "--------------------------------------------------------------------\n",
      "Action: deposit\n",
      "\n",
      "Amount: 1000\n",
      "\n",
      "Balance: 1100\n",
      "\n",
      "Time: 2025/09/04, 14:50:58\n",
      "\n"
     ]
    }
   ],
   "source": [
    "my_acc.last_history(n_last=5)"
   ]
  },
  {
   "cell_type": "code",
   "execution_count": 69,
   "metadata": {},
   "outputs": [],
   "source": [
    "my_acc.withdraw(500)"
   ]
  },
  {
   "cell_type": "code",
   "execution_count": 70,
   "metadata": {},
   "outputs": [],
   "source": [
    "my_acc.withdraw(100)"
   ]
  },
  {
   "cell_type": "code",
   "execution_count": 71,
   "metadata": {},
   "outputs": [
    {
     "name": "stdout",
     "output_type": "stream",
     "text": [
      "\n",
      "--------------------------------------------------------------------\n",
      "Action: deposit\n",
      "\n",
      "Amount: 1000\n",
      "\n",
      "Balance: 1100\n",
      "\n",
      "Time: 2025/09/04, 14:44:22\n",
      "\n",
      "\n",
      "--------------------------------------------------------------------\n",
      "Action: withdraw\n",
      "\n",
      "Amount: 500\n",
      "\n",
      "Balance: 600\n",
      "\n",
      "Time: 2025/09/04, 14:44:23\n",
      "\n",
      "\n",
      "--------------------------------------------------------------------\n",
      "Action: withdraw\n",
      "\n",
      "Amount: 100\n",
      "\n",
      "Balance: 500\n",
      "\n",
      "Time: 2025/09/04, 14:44:24\n",
      "\n"
     ]
    }
   ],
   "source": [
    "my_acc.history()"
   ]
  },
  {
   "cell_type": "code",
   "execution_count": 72,
   "metadata": {},
   "outputs": [
    {
     "name": "stdout",
     "output_type": "stream",
     "text": [
      "\n",
      "--------------------------------------------------------------------\n",
      "Action: deposit\n",
      "\n",
      "Amount: 1000\n",
      "\n",
      "Balance: 1100\n",
      "\n",
      "Time: 2025/09/04, 14:44:22\n",
      "\n",
      "\n",
      "--------------------------------------------------------------------\n",
      "Action: withdraw\n",
      "\n",
      "Amount: 500\n",
      "\n",
      "Balance: 600\n",
      "\n",
      "Time: 2025/09/04, 14:44:23\n",
      "\n",
      "\n",
      "--------------------------------------------------------------------\n",
      "Action: withdraw\n",
      "\n",
      "Amount: 100\n",
      "\n",
      "Balance: 500\n",
      "\n",
      "Time: 2025/09/04, 14:44:24\n",
      "\n",
      "\n",
      "--------------------------------------------------------------------\n",
      "Action: deposit\n",
      "\n",
      "Amount: 1000\n",
      "\n",
      "Balance: 1500\n",
      "\n",
      "Time: 2025/09/04, 14:44:25\n",
      "\n"
     ]
    }
   ],
   "source": [
    "my_acc.deposit(1000)\n",
    "my_acc.history()"
   ]
  },
  {
   "cell_type": "code",
   "execution_count": 73,
   "metadata": {},
   "outputs": [
    {
     "name": "stdout",
     "output_type": "stream",
     "text": [
      "\n",
      "--------------------------------------------------------------------\n",
      "Action: transfer to Bank account of My Ngoc Truong | Account type: standard | Balance: 1600.\n",
      "\n",
      "Amount: 100\n",
      "\n",
      "Balance: 1900\n",
      "\n",
      "Time: 2025/09/04, 14:44:26\n",
      "\n",
      "\n",
      "--------------------------------------------------------------------\n",
      "Action: deposit\n",
      "\n",
      "Amount: 1000\n",
      "\n",
      "Balance: 1100\n",
      "\n",
      "Time: 2025/09/04, 14:44:22\n",
      "\n",
      "\n",
      "--------------------------------------------------------------------\n",
      "Action: withdraw\n",
      "\n",
      "Amount: 500\n",
      "\n",
      "Balance: 600\n",
      "\n",
      "Time: 2025/09/04, 14:44:23\n",
      "\n",
      "\n",
      "--------------------------------------------------------------------\n",
      "Action: withdraw\n",
      "\n",
      "Amount: 100\n",
      "\n",
      "Balance: 500\n",
      "\n",
      "Time: 2025/09/04, 14:44:24\n",
      "\n",
      "\n",
      "--------------------------------------------------------------------\n",
      "Action: deposit\n",
      "\n",
      "Amount: 1000\n",
      "\n",
      "Balance: 1500\n",
      "\n",
      "Time: 2025/09/04, 14:44:25\n",
      "\n",
      "\n",
      "--------------------------------------------------------------------\n",
      "Action: deposit\n",
      "\n",
      "Amount: 100\n",
      "\n",
      "Balance: 1600\n",
      "\n",
      "Time: 2025/09/04, 14:44:26\n",
      "\n",
      "\n",
      "--------------------------------------------------------------------\n",
      "Action: transfer from Tina Trul\n",
      "\n",
      "Amount: 100\n",
      "\n",
      "Balance: 1600\n",
      "\n",
      "Time: 2025/09/04, 14:44:26\n",
      "\n"
     ]
    }
   ],
   "source": [
    "acc_2 = BankAccount(owner=\"Tina Trul\", account_type=\"standard\", balance=2000)\n",
    "acc_2.transfer(target_account=my_acc, amount=100)\n",
    "acc_2.history()\n",
    "my_acc.history()"
   ]
  },
  {
   "cell_type": "code",
   "execution_count": 96,
   "metadata": {},
   "outputs": [
    {
     "name": "stdout",
     "output_type": "stream",
     "text": [
      "3\n"
     ]
    }
   ],
   "source": [
    "dummy = [{'type' : 'fruit', 'name' : 'apple'}, {'type' : 'food', 'name' : 'rice'}, {'type' : 'meat', 'name' : 'beef'}]\n",
    "print(len(dummy))"
   ]
  },
  {
   "cell_type": "code",
   "execution_count": 98,
   "metadata": {},
   "outputs": [
    {
     "ename": "AttributeError",
     "evalue": "'str' object has no attribute 'items'",
     "output_type": "error",
     "traceback": [
      "\u001b[31m---------------------------------------------------------------------------\u001b[39m",
      "\u001b[31mAttributeError\u001b[39m                            Traceback (most recent call last)",
      "\u001b[36mCell\u001b[39m\u001b[36m \u001b[39m\u001b[32mIn[98]\u001b[39m\u001b[32m, line 2\u001b[39m\n\u001b[32m      1\u001b[39m \u001b[38;5;28;01mfor\u001b[39;00m i \u001b[38;5;129;01min\u001b[39;00m dummy[-\u001b[32m2\u001b[39m]:\n\u001b[32m----> \u001b[39m\u001b[32m2\u001b[39m     \u001b[38;5;28;01mfor\u001b[39;00m k, v \u001b[38;5;129;01min\u001b[39;00m \u001b[43mi\u001b[49m\u001b[43m.\u001b[49m\u001b[43mitems\u001b[49m():\n\u001b[32m      3\u001b[39m         \u001b[38;5;28mprint\u001b[39m(k,v)\n",
      "\u001b[31mAttributeError\u001b[39m: 'str' object has no attribute 'items'"
     ]
    }
   ],
   "source": [
    "for i in dummy[-2]:\n",
    "    for k, v in i.items():\n",
    "        print(k,v)"
   ]
  },
  {
   "cell_type": "code",
   "execution_count": 101,
   "metadata": {},
   "outputs": [
    {
     "data": {
      "text/plain": [
       "{'type': 'meat', 'name': 'beef'}"
      ]
     },
     "execution_count": 101,
     "metadata": {},
     "output_type": "execute_result"
    }
   ],
   "source": [
    "dummy[-1]"
   ]
  },
  {
   "cell_type": "code",
   "execution_count": 102,
   "metadata": {},
   "outputs": [],
   "source": [
    "dummy = [(\"deposit\", 1000, 1100, datetime.datetime.now().strftime(\"%Y/%m/%d, %H:%M:%S\")),\n",
    "         (\"transfer\", 2000, 9100, datetime.datetime.now().strftime(\"%Y/%m/%d, %H:%M:%S\"))]"
   ]
  },
  {
   "cell_type": "code",
   "execution_count": 105,
   "metadata": {},
   "outputs": [
    {
     "name": "stdout",
     "output_type": "stream",
     "text": [
      "deposit\n",
      "1000\n",
      "1100\n",
      "2025/09/05, 18:14:42\n",
      "transfer\n",
      "2000\n",
      "9100\n",
      "2025/09/05, 18:14:42\n"
     ]
    }
   ],
   "source": [
    "for i in dummy:\n",
    "    for j in i:\n",
    "        print(j)"
   ]
  },
  {
   "cell_type": "code",
   "execution_count": null,
   "metadata": {},
   "outputs": [],
   "source": []
  }
 ],
 "metadata": {
  "kernelspec": {
   "display_name": "Python 3",
   "language": "python",
   "name": "python3"
  },
  "language_info": {
   "codemirror_mode": {
    "name": "ipython",
    "version": 3
   },
   "file_extension": ".py",
   "mimetype": "text/x-python",
   "name": "python",
   "nbconvert_exporter": "python",
   "pygments_lexer": "ipython3",
   "version": "3.11.4"
  }
 },
 "nbformat": 4,
 "nbformat_minor": 2
}
