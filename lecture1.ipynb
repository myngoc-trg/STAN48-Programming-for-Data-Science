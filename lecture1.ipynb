{
 "cells": [
  {
   "cell_type": "code",
   "execution_count": 10,
   "id": "12426db2",
   "metadata": {},
   "outputs": [
    {
     "name": "stdout",
     "output_type": "stream",
     "text": [
      "Import libraries sucessully\n"
     ]
    }
   ],
   "source": [
    "import numpy as np\n",
    "import pandas as pd\n",
    "print(\"Import libraries sucessully\")"
   ]
  },
  {
   "cell_type": "code",
   "execution_count": 2,
   "id": "81046a00",
   "metadata": {},
   "outputs": [],
   "source": [
    "class DiceGame:\n",
    "    \"\"\"A dice game simulator using OOP\"\"\"\n",
    "    def __init__(self, n_dice = 2, n_sides = 6, name=None):\n",
    "        self.n_dice = n_dice\n",
    "        self.n_sides = n_sides\n",
    "        self.name = name or f\"{n_dice}d{n_sides}\"\n",
    "        self.roll_history = []\n",
    "\n",
    "    def roll(self):\n",
    "        result = np.random.randint(low=1, high=self.n_sides+1, size=self.n_dice)\n",
    "        self.roll_history.append(result)\n",
    "        return result\n",
    "\n",
    "    def simulate(self, n_rolls): \n",
    "        results = []\n",
    "        for _ in range(n_rolls):\n",
    "            roll = self.roll()\n",
    "            results.append(roll)\n",
    "        return results\n",
    "\n",
    "    def get_stats(self):\n",
    "        \"\"\"Statistics for the game's history\"\"\"\n",
    "        if not self.roll_history:\n",
    "            return \"No game has been recorded yet!\"\n",
    "        \n",
    "        sums = [sum(roll) for roll in self.roll_history]\n",
    "        return {\n",
    "            'total_rolls': len(self.roll_history),\n",
    "            'average': np.mean(sums),\n",
    "            'max': max(sums),\n",
    "            'min': min(sums)\n",
    "        }\n",
    "\n",
    "    def reset_history(self):\n",
    "        self.roll_history = []\n",
    "\n",
    "    \n",
    "    def __str__(self):\n",
    "        return f\"{self.name}: {self.n_dice} dice, {self.n_sides} sides\""
   ]
  },
  {
   "cell_type": "code",
   "execution_count": 3,
   "id": "f60254a5",
   "metadata": {},
   "outputs": [
    {
     "name": "stdout",
     "output_type": "stream",
     "text": [
      "Created 4 independent games: \n",
      "\n",
      "1. Standard: 6 dice, 2 sides\n",
      "2. D20: 1 dice, 20 sides\n",
      "3. Three D4s: 3 dice, 4 sides\n",
      "4. 2d6: 2 dice, 6 sides\n"
     ]
    }
   ],
   "source": [
    "## Testing\n",
    "\n",
    "game_2d6 = DiceGame(n_sides=2, n_dice=6, name=\"Standard\")\n",
    "game_1d20 = DiceGame(1,20, \"D20\")\n",
    "game_3d4 = DiceGame(3,4, \"Three D4s\")\n",
    "game_standard = DiceGame()\n",
    "\n",
    "print(\"Created 4 independent games: \\n\")\n",
    "print(f\"1. {game_2d6}\")\n",
    "print(f\"2. {game_1d20}\")\n",
    "print(f\"3. {game_3d4}\")\n",
    "print(f\"4. {game_standard}\")"
   ]
  },
  {
   "cell_type": "code",
   "execution_count": 4,
   "id": "65260eb4",
   "metadata": {},
   "outputs": [
    {
     "name": "stdout",
     "output_type": "stream",
     "text": [
      "Rolling each game: \n",
      "\n",
      "Standard: 6 dice, 2 sides: [2 1 2 1 2 2] | Sum: 10\n",
      "D20: 1 dice, 20 sides: [9] | Sum: 9\n",
      "Three D4s: 3 dice, 4 sides: [2 4 4] | Sum: 10\n",
      "2d6: 2 dice, 6 sides: [6 4] | Sum: 10\n"
     ]
    }
   ],
   "source": [
    "print(\"Rolling each game: \\n\")\n",
    "\n",
    "roll1 = game_2d6.roll()\n",
    "print(f\"{game_2d6}: {roll1} | Sum: {sum(roll1)}\")\n",
    "\n",
    "\n",
    "roll2= game_1d20.roll()\n",
    "print(f\"{game_1d20}: {roll2} | Sum: {sum(roll2)}\")\n",
    "      \n",
    "\n",
    "roll3 = game_3d4.roll()\n",
    "print(f\"{game_3d4}: {roll3} | Sum: {sum(roll3)}\")\n",
    "\n",
    "roll4 = game_standard.roll()\n",
    "print(f\"{game_standard}: {roll4} | Sum: {sum(roll4)}\")\n",
    "\n",
    "\n",
    "\n"
   ]
  },
  {
   "cell_type": "code",
   "execution_count": 5,
   "id": "49abc322",
   "metadata": {},
   "outputs": [
    {
     "name": "stdout",
     "output_type": "stream",
     "text": [
      "Standard: 6 dice, 2 sides | Average : 1.47\n",
      "\n",
      "D20: 1 dice, 20 sides | Average : 9.30\n",
      "\n",
      "Three D4s: 3 dice, 4 sides | Average : 2.78\n",
      "\n",
      "2d6: 2 dice, 6 sides | Average : 3.52\n",
      "\n"
     ]
    }
   ],
   "source": [
    "# Run simulations for each game\n",
    "\n",
    "results_2d6 = game_2d6.simulate(n_rolls=20)\n",
    "results_1d20 = game_1d20.simulate(n_rolls=20)\n",
    "results_3d4 = game_3d4.simulate(20)\n",
    "results_standard = game_standard.simulate(20)\n",
    "\n",
    "print(f\"{game_2d6} | Average : {np.mean(results_2d6):.2f}\\n\")\n",
    "print(f\"{game_1d20} | Average : {np.mean(results_1d20):.2f}\\n\")\n",
    "print(f\"{game_3d4} | Average : {np.mean(results_3d4):.2f}\\n\")\n",
    "print(f\"{game_standard} | Average : {np.mean(results_standard):.2f}\\n\")\n"
   ]
  },
  {
   "cell_type": "code",
   "execution_count": 6,
   "id": "e4b0b808",
   "metadata": {},
   "outputs": [
    {
     "name": "stdout",
     "output_type": "stream",
     "text": [
      "\n",
      "-----------------------------------Standard: 6 dice, 2 sides------------------------------------\n",
      "Total number of rolls = 21\n",
      "Average sum = 8.857142857142858\n",
      "Range of sum = 7 - 11\n",
      "\n",
      "-----------------------------------D20: 1 dice, 20 sides------------------------------------\n",
      "Total number of rolls = 21\n",
      "Average sum = 9.285714285714286\n",
      "Range of sum = 1 - 19\n",
      "\n",
      "-----------------------------------Three D4s: 3 dice, 4 sides------------------------------------\n",
      "Total number of rolls = 21\n",
      "Average sum = 8.428571428571429\n",
      "Range of sum = 5 - 12\n",
      "\n",
      "-----------------------------------2d6: 2 dice, 6 sides------------------------------------\n",
      "Total number of rolls = 21\n",
      "Average sum = 7.190476190476191\n",
      "Range of sum = 3 - 12\n"
     ]
    }
   ],
   "source": [
    "# Track each game's history\n",
    "\n",
    "for game in [game_2d6, game_1d20, game_3d4, game_standard]:\n",
    "    stats = game.get_stats()\n",
    "    print(f\"\\n-----------------------------------{game}------------------------------------\")\n",
    "    print(f\"Total number of rolls = {stats['total_rolls']}\")\n",
    "    print(f\"Average sum = {stats['average']}\")\n",
    "    print(f\"Range of sum = {stats['min']} - {stats['max']}\")"
   ]
  },
  {
   "cell_type": "code",
   "execution_count": 7,
   "id": "4394587b",
   "metadata": {},
   "outputs": [],
   "source": [
    "def dice_tournament(target):\n",
    "    \"\"\"Run a tournament comparing different dice configuration so see which one will reach the target first (or get closest to the target)\"\"\"\n",
    "    # avrrage distance is the metrics here\n",
    "\n",
    "    games = [game_2d6, game_1d20, game_3d4, game_standard]\n",
    "    results = {}\n",
    "\n",
    "    for game in games:\n",
    "        nums = game.simulate(100)\n",
    "        distances = [np.abs(sum(num) - target) for num in nums]\n",
    "    \n",
    "        avg_distance = np.mean(distances)\n",
    "        results[game] = avg_distance\n",
    "        print(f\"{game} | Average distance from {target} = {avg_distance}\")\n",
    "\n",
    "    win_game = min(results, key=results.get)\n",
    "    print(f\"\\nWinner: {win_game} closest to the target = {target}\")\n"
   ]
  },
  {
   "cell_type": "code",
   "execution_count": 8,
   "id": "12fcf5bb",
   "metadata": {},
   "outputs": [
    {
     "name": "stdout",
     "output_type": "stream",
     "text": [
      "Standard: 6 dice, 2 sides | Average distance from 100 = 90.97\n",
      "D20: 1 dice, 20 sides | Average distance from 100 = 90.16\n",
      "Three D4s: 3 dice, 4 sides | Average distance from 100 = 92.86\n",
      "2d6: 2 dice, 6 sides | Average distance from 100 = 93.13\n",
      "\n",
      "Winner: D20: 1 dice, 20 sides closest to the target = 100\n"
     ]
    }
   ],
   "source": [
    "dice_tournament(100)\n"
   ]
  },
  {
   "cell_type": "markdown",
   "id": "5542ebd9",
   "metadata": {},
   "source": [
    "### Exercise 1: Add a method"
   ]
  },
  {
   "cell_type": "code",
   "execution_count": 14,
   "id": "ba57a984",
   "metadata": {},
   "outputs": [
    {
     "name": "stdout",
     "output_type": "stream",
     "text": [
      "Most common sum: 9 appeared 18 times out of 100\n",
      "Expected sum (theoretical): 7.00\n"
     ]
    }
   ],
   "source": [
    "class ImproveDiceGame(DiceGame):\n",
    "    \"\"\"Extended version with additional functions: most_common_sum and expected_sum\"\"\"\n",
    "\n",
    "    def most_common_sum(self):\n",
    "        if not self.roll_history:\n",
    "            return None\n",
    "        \n",
    "        sums = [sum(nums) for nums in self.roll_history]\n",
    "        counts = pd.Series(sums).value_counts()\n",
    "        return counts.index[0], counts.iloc[0]\n",
    "    \n",
    "    \n",
    "    def expected_sum(self):\n",
    "        \"\"\"Calculate the expectation of the sum\"\"\"\n",
    "        # avg one dice = (1 + 2 + ... + n_sides) / n_sides = (n_sides + 1) / 2\n",
    "        return self.n_dice * (self.n_sides + 1) / 2\n",
    "\n",
    "improved_game = ImproveDiceGame(2,6, \"Improved standard\")\n",
    "\n",
    "for _ in range(100):\n",
    "    improved_game.roll()\n",
    "\n",
    "most_sum, count = improved_game.most_common_sum()\n",
    "print(f\"Most common sum: {most_sum} appeared {count} times out of 100\")\n",
    "print(f\"Expected sum (theoretical): {improved_game.expected_sum():.2f}\")\n"
   ]
  },
  {
   "cell_type": "markdown",
   "id": "c66238f4",
   "metadata": {},
   "source": [
    "### Exercise 2: Create a simple betting game"
   ]
  },
  {
   "cell_type": "code",
   "execution_count": 16,
   "id": "1ed5ac48",
   "metadata": {},
   "outputs": [],
   "source": [
    "class SimpleBettingGame(DiceGame):\n",
    "    \"\"\"A simple betting game\"\"\"\n",
    "\n",
    "    def __init__(self, n_dice=2, n_sides=6, starting_money=100):\n",
    "        super().__init__(n_dice, n_sides, \"Betting game\")\n",
    "        self.money = starting_money\n",
    "        self.betting_history = []\n",
    "\n",
    "    def bet_over_under(self, bet_amount, choice='over'):\n",
    "        \"\"\"Bet whether sum will be over or under the middle value (theoretical expectation of sum)\"\"\"\n",
    "        \"\"\"Choice='over is the default\"\"\"\n",
    "\n",
    "        if bet_amount > self.money:\n",
    "            return \"NOt enough money to bet\"\n",
    "        \n",
    "        expt = self.n_dice * (self.n_sides +1) / 2\n",
    "\n",
    "        # roll dice\n",
    "        roll = self.roll()\n",
    "        roll_sum = sum(roll)\n",
    "\n",
    "        # determine win or lose\n",
    "        if choice == 'over' and roll_sum > expt:\n",
    "            self.money += bet_amount\n",
    "            result = \"WIN\"\n",
    "        \n",
    "        elif choice == 'under' and roll_sum < expt:\n",
    "            self.money += bet_amount\n",
    "            result =\"WIN\"\n",
    "        else:\n",
    "            self.money -= bet_amount\n",
    "            result = \"lose\"\n",
    "\n",
    "        self.roll_history.append({\n",
    "            'roll': roll,\n",
    "            'sum': roll_sum,\n",
    "            'bet': choice,\n",
    "            'bet_amount': bet_amount,\n",
    "            'money': self.money,\n",
    "            'result': result \n",
    "        }\n",
    "        )\n",
    "\n",
    "        return f\"Rolled {roll_sum} | You {result} | Remaining money: ${self.money}\"\n"
   ]
  },
  {
   "cell_type": "code",
   "execution_count": 18,
   "id": "a25ee544",
   "metadata": {},
   "outputs": [
    {
     "name": "stdout",
     "output_type": "stream",
     "text": [
      "------------------SIMPLE BETTING GAME--------------------------------------\n",
      "Starting money = 100\n",
      "RUle: Bet if roll sum will be over/under 7.0\n",
      "\n",
      "Rolled 4 | You lose | Remaining money: $90\n",
      "NOt enough money to bet\n",
      "NOt enough money to bet\n",
      "NOt enough money to bet\n"
     ]
    }
   ],
   "source": [
    "betting_1 = SimpleBettingGame()\n",
    "\n",
    "print(\"------------------SIMPLE BETTING GAME--------------------------------------\")\n",
    "print(f\"Starting money = {betting_1.money}\")\n",
    "print(f\"RUle: Bet if roll sum will be over/under {betting_1.n_dice * (betting_1.n_sides + 1) / 2}\\n\")\n",
    "\n",
    "print(betting_1.bet_over_under(10, 'over'))\n",
    "print(betting_1.bet_over_under(100, 'over'))\n",
    "print(betting_1.bet_over_under(105, 'under'))\n",
    "print(betting_1.bet_over_under(10000, 'under'))"
   ]
  },
  {
   "cell_type": "code",
   "execution_count": null,
   "id": "22cace5c",
   "metadata": {},
   "outputs": [],
   "source": []
  }
 ],
 "metadata": {
  "kernelspec": {
   "display_name": "base",
   "language": "python",
   "name": "python3"
  },
  "language_info": {
   "codemirror_mode": {
    "name": "ipython",
    "version": 3
   },
   "file_extension": ".py",
   "mimetype": "text/x-python",
   "name": "python",
   "nbconvert_exporter": "python",
   "pygments_lexer": "ipython3",
   "version": "3.13.5"
  }
 },
 "nbformat": 4,
 "nbformat_minor": 5
}
