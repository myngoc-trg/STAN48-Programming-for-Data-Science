{
 "cells": [
  {
   "cell_type": "markdown",
   "metadata": {},
   "source": [
    "# Mini-Project: Dice Game Simulator\n",
    "## From Procedural to Object-Oriented Programming\n",
    "\n",
    "**Course**: STAN48 - Programming for Data Science  \n",
    "**Topics Covered**: Programming environment, data structures, and OOP concepts\n",
    "\n",
    "### Learning Objectives\n",
    "- Understand the problems with procedural programming using global variables\n",
    "- Learn how Object-Oriented Programming (OOP) solves these problems\n",
    "- Practice creating and using classes in Python"
   ]
  },
  {
   "cell_type": "markdown",
   "metadata": {},
   "source": [
    "## Setup: Import Libraries"
   ]
  },
  {
   "cell_type": "code",
   "execution_count": 20,
   "metadata": {},
   "outputs": [
    {
     "name": "stdout",
     "output_type": "stream",
     "text": [
      "Libraries loaded successfully!\n"
     ]
    }
   ],
   "source": [
    "import numpy as np\n",
    "import pandas as pd\n",
    "\n",
    "\n",
    "\n",
    "print(\"Libraries loaded successfully!\")"
   ]
  },
  {
   "cell_type": "markdown",
   "metadata": {},
   "source": [
    "## Part 1: Procedural Programming Approach\n",
    "\n",
    "Let's start with the traditional procedural approach using **global variables** and **functions**."
   ]
  },
  {
   "cell_type": "code",
   "execution_count": 21,
   "metadata": {},
   "outputs": [],
   "source": [
    "# PROCEDURAL APPROACH - Using global variables (problematic!)\n",
    "\n",
    "# Global configuration\n",
    "dice_config = {'n_dice': 2, 'n_sides': 6}\n",
    "\n",
    "def roll_dice():\n",
    "    \"\"\"Roll dice using global configuration\"\"\"\n",
    "    global dice_config\n",
    "    n_dice = dice_config['n_dice']\n",
    "    n_sides = dice_config['n_sides']\n",
    "    return np.random.randint(1, n_sides + 1, n_dice)\n",
    "\n",
    "def change_config(n_dice, n_sides):\n",
    "    \"\"\"Change the global dice configuration\"\"\"\n",
    "    global dice_config\n",
    "    dice_config['n_dice'] = n_dice\n",
    "    dice_config['n_sides'] = n_sides\n",
    "    print(f\"Config changed to: {n_dice} dice with {n_sides} sides\")\n",
    "\n",
    "def simulate_rolls(n_times):\n",
    "    \"\"\"Simulate multiple dice rolls\"\"\"\n",
    "    results = []\n",
    "    for _ in range(n_times):\n",
    "        roll = roll_dice()\n",
    "        results.append(sum(roll))\n",
    "    return results"
   ]
  },
  {
   "cell_type": "markdown",
   "metadata": {},
   "source": [
    "### Testing the Procedural Approach\n",
    "\n",
    "Let's see how this works and what problems arise:"
   ]
  },
  {
   "cell_type": "code",
   "execution_count": 22,
   "metadata": {},
   "outputs": [
    {
     "name": "stdout",
     "output_type": "stream",
     "text": [
      "Initial configuration: 2 dice, 6 sides\n",
      "Roll result: [1 5], Sum: 6\n",
      "\n"
     ]
    }
   ],
   "source": [
    "# Test 1: Roll standard dice (2d6)\n",
    "print(\"Initial configuration: 2 dice, 6 sides\")\n",
    "roll = roll_dice()\n",
    "print(f\"Roll result: {roll}, Sum: {sum(roll)}\")\n",
    "print()"
   ]
  },
  {
   "cell_type": "code",
   "execution_count": 23,
   "metadata": {},
   "outputs": [
    {
     "name": "stdout",
     "output_type": "stream",
     "text": [
      "10 rolls with 2d6: [np.int64(8), np.int64(8), np.int64(9), np.int64(6), np.int64(5), np.int64(7), np.int64(9), np.int64(4), np.int64(5), np.int64(7)]\n",
      "Average: 6.80\n"
     ]
    }
   ],
   "source": [
    "# Simulate 10 rolls\n",
    "results = simulate_rolls(10)\n",
    "print(f\"10 rolls with 2d6: {results}\")\n",
    "print(f\"Average: {np.mean(results):.2f}\")"
   ]
  },
  {
   "cell_type": "markdown",
   "metadata": {},
   "source": [
    "### Problem Demonstration: Global State Issues\n",
    "\n",
    "Now let's see the **problems** with this approach:"
   ]
  },
  {
   "cell_type": "code",
   "execution_count": 24,
   "metadata": {},
   "outputs": [
    {
     "name": "stdout",
     "output_type": "stream",
     "text": [
      "=== PROBLEM 1: Unexpected Configuration Changes ===\n",
      "\n",
      "You expect to roll 2d6...\n",
      "First roll: [6 6], Sum: 12\n",
      "\n",
      "Someone elsewhere in code does this:\n",
      "Config changed to: 3 dice with 4 sides\n",
      "\n",
      "You roll again, still expecting 2d6...\n",
      "Second roll: [4 4 1], Sum: 9\n",
      "\n",
      "PROBLEM: Got 3d4 instead of 2d6!\n",
      "Global configuration was changed without your knowledge!\n"
     ]
    }
   ],
   "source": [
    "print(\"=== PROBLEM 1: Unexpected Configuration Changes ===\")\n",
    "print(\"\\nYou expect to roll 2d6...\")\n",
    "roll1 = roll_dice()\n",
    "print(f\"First roll: {roll1}, Sum: {sum(roll1)}\")\n",
    "\n",
    "# Someone else in the code changes the configuration!\n",
    "print(\"\\nSomeone elsewhere in code does this:\")\n",
    "change_config(3, 4)  # Changes to 3d4\n",
    "\n",
    "print(\"\\nYou roll again, still expecting 2d6...\")\n",
    "roll2 = roll_dice()\n",
    "print(f\"Second roll: {roll2}, Sum: {sum(roll2)}\")\n",
    "print(\"\\nPROBLEM: Got 3d4 instead of 2d6!\")\n",
    "print(\"Global configuration was changed without your knowledge!\")"
   ]
  },
  {
   "cell_type": "code",
   "execution_count": 25,
   "metadata": {},
   "outputs": [
    {
     "name": "stdout",
     "output_type": "stream",
     "text": [
      "=== PROBLEM 2: Can't Handle Multiple Games ===\n",
      "\n",
      "Task: Compare 2d6 vs 1d20\n",
      "Config changed to: 2 dice with 6 sides\n",
      "2d6 results: [np.int64(4), np.int64(5), np.int64(3), np.int64(2), np.int64(11)]\n",
      "Config changed to: 1 dice with 20 sides\n",
      "1d20 results: [np.int64(1), np.int64(13), np.int64(20), np.int64(7), np.int64(2)]\n",
      "\n",
      "PROBLEM: To roll 2d6 again, must remember and reset configuration!\n",
      "Can't have both games active at the same time!\n"
     ]
    }
   ],
   "source": [
    "print(\"=== PROBLEM 2: Can't Handle Multiple Games ===\")\n",
    "print(\"\\nTask: Compare 2d6 vs 1d20\")\n",
    "\n",
    "# Game 1: 2d6\n",
    "change_config(2, 6)\n",
    "game1_results = simulate_rolls(5)\n",
    "print(f\"2d6 results: {game1_results}\")\n",
    "\n",
    "# Game 2: 1d20\n",
    "change_config(1, 20)\n",
    "game2_results = simulate_rolls(5)\n",
    "print(f\"1d20 results: {game2_results}\")\n",
    "\n",
    "# Want to roll 2d6 again?\n",
    "print(\"\\nPROBLEM: To roll 2d6 again, must remember and reset configuration!\")\n",
    "print(\"Can't have both games active at the same time!\")"
   ]
  },
  {
   "cell_type": "markdown",
   "metadata": {},
   "source": [
    "## Part 2: Object-Oriented Programming Solution\n",
    "\n",
    "Now let's solve these problems using **classes and objects**:"
   ]
  },
  {
   "cell_type": "code",
   "execution_count": 26,
   "metadata": {},
   "outputs": [],
   "source": [
    "class DiceGame:\n",
    "    \"\"\"A dice game simulator using Object-Oriented Programming\"\"\"\n",
    "    \n",
    "    def __init__(self, n_dice=2, n_sides=6, name=None):\n",
    "        \"\"\"Initialize a dice game with its own configuration\"\"\"\n",
    "        self.n_dice = n_dice\n",
    "        self.n_sides = n_sides\n",
    "        self.name = name or f\"{n_dice}d{n_sides}\"\n",
    "        self.roll_history = []\n",
    "    \n",
    "    def roll(self):\n",
    "        \"\"\"Roll dice - no parameters needed!\"\"\"\n",
    "        result = np.random.randint(1, self.n_sides + 1, self.n_dice)\n",
    "        self.roll_history.append(result)\n",
    "        return result\n",
    "    \n",
    "    def simulate(self, n_times):\n",
    "        \"\"\"Simulate multiple rolls\"\"\"\n",
    "        results = []\n",
    "        for _ in range(n_times):\n",
    "            roll = self.roll()\n",
    "            results.append(sum(roll))\n",
    "        return results\n",
    "    \n",
    "    def get_stats(self):\n",
    "        \"\"\"Get statistics for this game's history\"\"\"\n",
    "        if not self.roll_history:\n",
    "            return \"No rolls yet!\"\n",
    "        \n",
    "        sums = [sum(roll) for roll in self.roll_history]\n",
    "        return {\n",
    "            'total_rolls': len(self.roll_history),\n",
    "            'average': np.mean(sums),\n",
    "            'min': min(sums),\n",
    "            'max': max(sums)\n",
    "        }\n",
    "    \n",
    "    def reset_history(self):\n",
    "        \"\"\"Clear roll history\"\"\"\n",
    "        self.roll_history = []\n",
    "    \n",
    "    def __str__(self):\n",
    "        \"\"\"String representation of the game\"\"\"\n",
    "        return f\"{self.name} ({self.n_dice} dice, {self.n_sides} sides)\""
   ]
  },
  {
   "cell_type": "markdown",
   "metadata": {},
   "source": [
    "### Testing the OOP Approach\n",
    "\n",
    "Let's see how OOP solves our problems:"
   ]
  },
  {
   "cell_type": "code",
   "execution_count": 27,
   "metadata": {},
   "outputs": [
    {
     "name": "stdout",
     "output_type": "stream",
     "text": [
      "Created three independent games:\n",
      "  1. Standard (2 dice, 6 sides)\n",
      "  2. D20 (1 dice, 20 sides)\n",
      "  3. Three D4s (3 dice, 4 sides)\n"
     ]
    }
   ],
   "source": [
    "# Create independent game objects\n",
    "game_2d6 = DiceGame(2, 6, \"Standard\")\n",
    "game_1d20 = DiceGame(1, 20, \"D20\")\n",
    "game_3d4 = DiceGame(3, 4, \"Three D4s\")\n",
    "\n",
    "print(\"Created three independent games:\")\n",
    "print(f\"  1. {game_2d6}\")\n",
    "print(f\"  2. {game_1d20}\")\n",
    "print(f\"  3. {game_3d4}\")"
   ]
  },
  {
   "cell_type": "code",
   "execution_count": 28,
   "metadata": {},
   "outputs": [
    {
     "name": "stdout",
     "output_type": "stream",
     "text": [
      "=== SOLUTION: Independent Game Objects ===\n",
      "\n",
      "Rolling each game:\n",
      "Standard: [6 2], Sum: 8\n",
      "D20: [14], Sum: 14\n",
      "Three D4s: [2 2 3], Sum: 7\n",
      "\n",
      "Standard again: [2 2], Sum: 4\n",
      "\n",
      "Each game keeps its own configuration!\n"
     ]
    }
   ],
   "source": [
    "# Each game maintains its own configuration\n",
    "print(\"=== SOLUTION: Independent Game Objects ===\")\n",
    "print(\"\\nRolling each game:\")\n",
    "\n",
    "roll1 = game_2d6.roll()\n",
    "print(f\"{game_2d6.name}: {roll1}, Sum: {sum(roll1)}\")\n",
    "\n",
    "roll2 = game_1d20.roll()\n",
    "print(f\"{game_1d20.name}: {roll2}, Sum: {sum(roll2)}\")\n",
    "\n",
    "roll3 = game_3d4.roll()\n",
    "print(f\"{game_3d4.name}: {roll3}, Sum: {sum(roll3)}\")\n",
    "\n",
    "# Roll the first game again - still 2d6!\n",
    "roll4 = game_2d6.roll()\n",
    "print(f\"\\n{game_2d6.name} again: {roll4}, Sum: {sum(roll4)}\")\n",
    "\n",
    "print(\"\\nEach game keeps its own configuration!\")"
   ]
  },
  {
   "cell_type": "code",
   "execution_count": 29,
   "metadata": {},
   "outputs": [
    {
     "name": "stdout",
     "output_type": "stream",
     "text": [
      "=== Running Simulations ===\n",
      "\n",
      "Standard average: 7.05\n",
      "D20 average: 11.10\n",
      "Three D4s average: 7.95\n"
     ]
    }
   ],
   "source": [
    "# Run simulations for each game\n",
    "print(\"=== Running Simulations ===\")\n",
    "\n",
    "results_2d6 = game_2d6.simulate(20)\n",
    "results_1d20 = game_1d20.simulate(20)\n",
    "results_3d4 = game_3d4.simulate(20)\n",
    "\n",
    "print(f\"\\n{game_2d6.name} average: {np.mean(results_2d6):.2f}\")\n",
    "print(f\"{game_1d20.name} average: {np.mean(results_1d20):.2f}\")\n",
    "print(f\"{game_3d4.name} average: {np.mean(results_3d4):.2f}\")"
   ]
  },
  {
   "cell_type": "code",
   "execution_count": 30,
   "metadata": {},
   "outputs": [
    {
     "name": "stdout",
     "output_type": "stream",
     "text": [
      "=== Individual Game Statistics ===\n",
      "\n",
      "Standard:\n",
      "  Total rolls: 22\n",
      "  Average sum: 6.95\n",
      "  Range: 3 - 10\n",
      "\n",
      "D20:\n",
      "  Total rolls: 21\n",
      "  Average sum: 11.24\n",
      "  Range: 1 - 19\n",
      "\n",
      "Three D4s:\n",
      "  Total rolls: 21\n",
      "  Average sum: 7.90\n",
      "  Range: 5 - 10\n"
     ]
    }
   ],
   "source": [
    "# Each game tracks its own history\n",
    "print(\"=== Individual Game Statistics ===\")\n",
    "\n",
    "for game in [game_2d6, game_1d20, game_3d4]:\n",
    "    stats = game.get_stats()\n",
    "    print(f\"\\n{game.name}:\")\n",
    "    print(f\"  Total rolls: {stats['total_rolls']}\")\n",
    "    print(f\"  Average sum: {stats['average']:.2f}\")\n",
    "    print(f\"  Range: {stats['min']} - {stats['max']}\")"
   ]
  },
  {
   "cell_type": "markdown",
   "metadata": {},
   "source": [
    "## Part 3: Direct Comparison\n",
    "\n",
    "Let's see the advantages of OOP in a practical scenario:"
   ]
  },
  {
   "cell_type": "code",
   "execution_count": 31,
   "metadata": {},
   "outputs": [
    {
     "name": "stdout",
     "output_type": "stream",
     "text": [
      "=== DICE TOURNAMENT ===\n",
      "\n",
      "Task: Find which dice configuration gets closest to sum of 10\n",
      "\n",
      "2d6: Average distance from 10 = 3.37\n",
      "3d4: Average distance from 10 = 2.58\n",
      "1d20: Average distance from 10 = 5.44\n",
      "4d3: Average distance from 10 = 2.33\n",
      "\n",
      "Winner: 4d3 (closest to target)\n",
      "\n",
      "With OOP, we easily managed 4 different games simultaneously!\n",
      "With procedural approach, we'd need to constantly switch configurations!\n"
     ]
    }
   ],
   "source": [
    "def dice_tournament():\n",
    "    \"\"\"Run a tournament comparing different dice configurations\"\"\"\n",
    "    \n",
    "    print(\"=== DICE TOURNAMENT ===\")\n",
    "    print(\"\\nTask: Find which dice configuration gets closest to sum of 10\\n\")\n",
    "    \n",
    "    # Create different games\n",
    "    games = [\n",
    "        DiceGame(2, 6, \"2d6\"),\n",
    "        DiceGame(3, 4, \"3d4\"),\n",
    "        DiceGame(1, 20, \"1d20\"),\n",
    "        DiceGame(4, 3, \"4d3\")\n",
    "    ]\n",
    "    \n",
    "    target = 10\n",
    "    results = []\n",
    "    \n",
    "    # Each game plays 100 rounds\n",
    "    for game in games:\n",
    "        distances = []\n",
    "        for _ in range(100):\n",
    "            roll_sum = sum(game.roll())\n",
    "            distance = abs(roll_sum - target)\n",
    "            distances.append(distance)\n",
    "        \n",
    "        avg_distance = np.mean(distances)\n",
    "        results.append((game.name, avg_distance))\n",
    "        print(f\"{game.name}: Average distance from 10 = {avg_distance:.2f}\")\n",
    "    \n",
    "    # Find winner\n",
    "    winner = min(results, key=lambda x: x[1])\n",
    "    print(f\"\\nWinner: {winner[0]} (closest to target)\")\n",
    "    \n",
    "    print(\"\\nWith OOP, we easily managed 4 different games simultaneously!\")\n",
    "    print(\"With procedural approach, we'd need to constantly switch configurations!\")\n",
    "\n",
    "dice_tournament()"
   ]
  },
  {
   "cell_type": "markdown",
   "metadata": {},
   "source": [
    "## Exercise 1: Add a Method\n",
    "\n",
    "Add a new method to the DiceGame class that finds the most common sum:"
   ]
  },
  {
   "cell_type": "code",
   "execution_count": 32,
   "metadata": {},
   "outputs": [
    {
     "name": "stdout",
     "output_type": "stream",
     "text": [
      "Most common sum: 6 (appeared 21 times out of 100)\n",
      "Expected sum (theoretical): 7.0\n"
     ]
    }
   ],
   "source": [
    "class ImprovedDiceGame(DiceGame):\n",
    "    \"\"\"Extended version with additional features\"\"\"\n",
    "    \n",
    "    def most_common_sum(self):\n",
    "        \"\"\"Find the most frequently rolled sum\"\"\"\n",
    "        if not self.roll_history:\n",
    "            return None\n",
    "        \n",
    "        sums = [sum(roll) for roll in self.roll_history]\n",
    "        counts = pd.Series(sums).value_counts()\n",
    "        if len(counts) > 0:\n",
    "            return counts.index[0], counts.iloc[0]\n",
    "        return None\n",
    "    \n",
    "    def expected_sum(self):\n",
    "        \"\"\"Calculate theoretical expected sum\"\"\"\n",
    "        # Average value of one die: (1 + 2 + ... + n_sides) / n_sides = (n_sides + 1) / 2\n",
    "        return self.n_dice * (self.n_sides + 1) / 2\n",
    "\n",
    "# Test the improved version\n",
    "improved_game = ImprovedDiceGame(2, 6, \"Improved 2d6\")\n",
    "\n",
    "# Roll many times\n",
    "for _ in range(100):\n",
    "    improved_game.roll()\n",
    "\n",
    "# Find most common sum\n",
    "common_sum, count = improved_game.most_common_sum()\n",
    "print(f\"Most common sum: {common_sum} (appeared {count} times out of 100)\")\n",
    "print(f\"Expected sum (theoretical): {improved_game.expected_sum():.1f}\")"
   ]
  },
  {
   "cell_type": "markdown",
   "metadata": {},
   "source": [
    "## Exercise 2: Create a Simple Game\n",
    "\n",
    "Create a simple betting game using the DiceGame class:"
   ]
  },
  {
   "cell_type": "code",
   "execution_count": 33,
   "metadata": {},
   "outputs": [
    {
     "name": "stdout",
     "output_type": "stream",
     "text": [
      "=== SIMPLE BETTING GAME ===\n",
      "Starting money: $100\n",
      "Rule: Bet if sum will be over/under 7.0\n",
      "\n",
      "Rolled 9 - You WIN! Money: $110\n",
      "Rolled 6 - You WIN! Money: $130\n",
      "Rolled 10 - You WIN! Money: $145\n",
      "Rolled 8 - You LOSE! Money: $135\n",
      "Rolled 7 - You LOSE! Money: $110\n"
     ]
    }
   ],
   "source": [
    "class SimpleBettingGame(DiceGame):\n",
    "    \"\"\"A simple dice betting game\"\"\"\n",
    "    \n",
    "    def __init__(self, n_dice=2, n_sides=6, starting_money=100):\n",
    "        super().__init__(n_dice, n_sides, \"Betting Game\")\n",
    "        self.money = starting_money\n",
    "        self.bet_history = []\n",
    "    \n",
    "    def bet_over_under(self, bet_amount, choice='over'):\n",
    "        \"\"\"Bet whether sum will be over or under the middle value\"\"\"\n",
    "        if bet_amount > self.money:\n",
    "            return \"Not enough money!\"\n",
    "        \n",
    "        # Calculate middle value\n",
    "        middle = self.n_dice * (self.n_sides + 1) / 2\n",
    "        \n",
    "        # Roll dice\n",
    "        roll = self.roll()\n",
    "        roll_sum = sum(roll)\n",
    "        \n",
    "        # Determine win/loss\n",
    "        if choice == 'over' and roll_sum > middle:\n",
    "            self.money += bet_amount\n",
    "            result = 'WIN'\n",
    "        elif choice == 'under' and roll_sum < middle:\n",
    "            self.money += bet_amount\n",
    "            result = 'WIN'\n",
    "        else:\n",
    "            self.money -= bet_amount\n",
    "            result = 'LOSE'\n",
    "        \n",
    "        self.bet_history.append({\n",
    "            'roll': roll,\n",
    "            'sum': roll_sum,\n",
    "            'bet': choice,\n",
    "            'result': result,\n",
    "            'money': self.money\n",
    "        })\n",
    "        \n",
    "        return f\"Rolled {roll_sum} - You {result}! Money: ${self.money}\"\n",
    "\n",
    "# Play the game\n",
    "betting_game = SimpleBettingGame(2, 6, 100)\n",
    "\n",
    "print(\"=== SIMPLE BETTING GAME ===\")\n",
    "print(f\"Starting money: ${betting_game.money}\")\n",
    "print(f\"Rule: Bet if sum will be over/under {betting_game.n_dice * (betting_game.n_sides + 1) / 2}\\n\")\n",
    "\n",
    "# Play some rounds\n",
    "print(betting_game.bet_over_under(10, 'over'))\n",
    "print(betting_game.bet_over_under(20, 'under'))\n",
    "print(betting_game.bet_over_under(15, 'over'))\n",
    "print(betting_game.bet_over_under(10, 'under'))\n",
    "print(betting_game.bet_over_under(25, 'over'))"
   ]
  },
  {
   "cell_type": "markdown",
   "metadata": {},
   "source": [
    "## Summary:\n",
    "\n",
    "### Problems with Procedural Programming:\n",
    "1. **Global state** can be changed from anywhere\n",
    "2. **No encapsulation** - data and functions are separate\n",
    "3. **Can't handle multiple configurations** easily\n",
    "4. **Parameter repetition** - must pass same values everywhere\n",
    "\n",
    "### Benefits of Object-Oriented Programming:\n",
    "1. **Encapsulation** - data and methods together in objects\n",
    "2. **Multiple instances** - each with its own state\n",
    "3. **Clean interface** - methods know their configuration\n",
    "4. **Reusability** - easy to extend with inheritance\n",
    "\n",
    "### When to Use Each:\n",
    "- **Procedural**: Simple scripts, one-time calculations\n",
    "- **OOP**: Complex programs, reusable code, multiple states"
   ]
  }
 ],
 "metadata": {
  "kernelspec": {
   "display_name": "Python 3",
   "language": "python",
   "name": "python3"
  },
  "language_info": {
   "codemirror_mode": {
    "name": "ipython",
    "version": 3
   },
   "file_extension": ".py",
   "mimetype": "text/x-python",
   "name": "python",
   "nbconvert_exporter": "python",
   "pygments_lexer": "ipython3",
   "version": "3.12.0"
  }
 },
 "nbformat": 4,
 "nbformat_minor": 4
}
