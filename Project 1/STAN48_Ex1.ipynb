{
 "cells": [
  {
   "cell_type": "code",
   "execution_count": 175,
   "metadata": {},
   "outputs": [],
   "source": [
    "# bankaccount, deposit, withdraw, transfer, apply interest, record trough trasanction as dictionary including action, amount, balance, time, history, \n",
    "# extended version: bank, create account, get account, transfer, total assets, list accounts,\n"
   ]
  },
  {
   "cell_type": "code",
   "execution_count": 176,
   "metadata": {},
   "outputs": [
    {
     "name": "stdout",
     "output_type": "stream",
     "text": [
      "Import libraries sucessfully\n"
     ]
    }
   ],
   "source": [
    "import numpy as np\n",
    "import datetime\n",
    "\n",
    "print(\"Import libraries sucessfully\")"
   ]
  },
  {
   "cell_type": "code",
   "execution_count": 177,
   "metadata": {},
   "outputs": [
    {
     "data": {
      "text/plain": [
       "'2025/09/06, 16:32:15'"
      ]
     },
     "execution_count": 177,
     "metadata": {},
     "output_type": "execute_result"
    }
   ],
   "source": [
    "datetime.datetime.now().strftime(\"%Y/%m/%d, %H:%M:%S\")"
   ]
  },
  {
   "cell_type": "markdown",
   "metadata": {},
   "source": []
  },
  {
   "cell_type": "code",
   "execution_count": 178,
   "metadata": {},
   "outputs": [],
   "source": [
    "class BankAccount():\n",
    "    bank_name = \"My madeup bank\"\n",
    "    #annual_interest_rate = 0.2\n",
    "\n",
    "    def __init__(self, owner: str, account_type: str, balance=0):\n",
    "        self.owner = owner\n",
    "        self.account_type = account_type.lower()\n",
    "        self.balance = balance\n",
    "        self.annual_interest_rate = 0.02\n",
    "        self.transactions = [] #to store transaction history\n",
    "\n",
    "    def deposit(self, amount):\n",
    "        if amount <= 0:\n",
    "            return \"Deposit amount has to be positve number!\"\n",
    "        \n",
    "        self.balance += amount\n",
    "        self.record(action_type=\"deposit\",amount=amount)\n",
    "\n",
    "    def withdraw(self, amount):\n",
    "        if amount <= 0:\n",
    "            return \"Withdraw amount has to be positve number!\"\n",
    "        if amount > self.balance:\n",
    "            return f\"Not enough money remaining! Current balance: {self.balance}.\"\n",
    "        \n",
    "        self.balance -= amount\n",
    "        self.record(action_type=\"withdraw\",amount=amount) \n",
    "\n",
    "    def transfer(self, target_account, amount):\n",
    "        if not isinstance(target_account, BankAccount):\n",
    "            return \"Target account must be a bank account\"\n",
    "        if amount <= 0:\n",
    "            return \"Transfer amount has to be positve number!\"\n",
    "        if amount > self.balance:\n",
    "            return f\"Not enough money remaining! Current balance: {self.balance}.\"\n",
    "        \n",
    "        target_account.deposit(amount)\n",
    "        target_account.record(action_type=f\"transfer from {self.owner}\",amount=amount)\n",
    "        self.balance -= amount\n",
    "        self.record(action_type=f\"transfer to {target_account}\",amount=amount)\n",
    "\n",
    "    def apply_interest(self):\n",
    "        # apply interest rate on savings account\n",
    "        if self.account_type == \"savings\":\n",
    "            interest = self.balance * self.annual_interest_rate\n",
    "            self.balance += interest\n",
    "        \n",
    "        elif self.account_type == \"morgage_loan\":\n",
    "            interest = self.balance * (self.annual_interest_rate*2)\n",
    "            self.balance += interest\n",
    "        \n",
    "        elif self.account_type == \"private_loan\":\n",
    "            interest = self.balance * (self.annual_interest_rate * 5)\n",
    "            self.balance += interest\n",
    "    \n",
    "    def record(self, action_type, amount):\n",
    "        return self.transactions.append({\n",
    "            'Action': action_type,\n",
    "            'Amount': amount,\n",
    "            'Balance': self.balance,\n",
    "            'Time': datetime.datetime.now().strftime(\"%Y/%m/%d, %H:%M:%S\")\n",
    "        })\n",
    "    \n",
    "    def history(self):\n",
    "        for action in self.transactions:\n",
    "            print(\"-----------------------------------------------------------------------------------------\")\n",
    "            print(action) \n",
    "            '''for key, val in action.items():\n",
    "                print(f\"{key}: {val}\")\n",
    "'''\n",
    "     \n",
    "    def __str__(self):\n",
    "        return f\"Bank account of {self.owner} | Account type: {self.account_type} | Balance: {self.balance}.\"\n",
    "\n",
    "\n",
    "    \n",
    "        \n",
    "\n",
    "\n",
    "\n"
   ]
  },
  {
   "cell_type": "code",
   "execution_count": 179,
   "metadata": {},
   "outputs": [
    {
     "name": "stdout",
     "output_type": "stream",
     "text": [
      "Bank account of My Ngoc Truong | Account type: standard | Balance: 100.\n"
     ]
    }
   ],
   "source": [
    "my_acc = BankAccount(\"My Ngoc Truong\", account_type=\"standard\", balance=100)\n",
    "print(my_acc)"
   ]
  },
  {
   "cell_type": "code",
   "execution_count": 180,
   "metadata": {},
   "outputs": [
    {
     "name": "stdout",
     "output_type": "stream",
     "text": [
      "Bank account of My Ngoc Truong | Account type: standard | Balance: 1100.\n"
     ]
    }
   ],
   "source": [
    "my_acc.deposit(1000)\n",
    "print(my_acc)"
   ]
  },
  {
   "cell_type": "code",
   "execution_count": 181,
   "metadata": {},
   "outputs": [
    {
     "name": "stdout",
     "output_type": "stream",
     "text": [
      "-----------------------------------------------------------------------------------------\n",
      "{'Action': 'deposit', 'Amount': 1000, 'Balance': 1100, 'Time': '2025/09/06, 16:32:15'}\n"
     ]
    }
   ],
   "source": [
    "my_acc.history()"
   ]
  },
  {
   "cell_type": "code",
   "execution_count": 182,
   "metadata": {},
   "outputs": [],
   "source": [
    "my_acc.withdraw(500)"
   ]
  },
  {
   "cell_type": "code",
   "execution_count": 183,
   "metadata": {},
   "outputs": [],
   "source": [
    "my_acc.withdraw(100)"
   ]
  },
  {
   "cell_type": "code",
   "execution_count": 184,
   "metadata": {},
   "outputs": [
    {
     "name": "stdout",
     "output_type": "stream",
     "text": [
      "-----------------------------------------------------------------------------------------\n",
      "{'Action': 'deposit', 'Amount': 1000, 'Balance': 1100, 'Time': '2025/09/06, 16:32:15'}\n",
      "-----------------------------------------------------------------------------------------\n",
      "{'Action': 'withdraw', 'Amount': 500, 'Balance': 600, 'Time': '2025/09/06, 16:32:15'}\n",
      "-----------------------------------------------------------------------------------------\n",
      "{'Action': 'withdraw', 'Amount': 100, 'Balance': 500, 'Time': '2025/09/06, 16:32:15'}\n"
     ]
    }
   ],
   "source": [
    "my_acc.history()"
   ]
  },
  {
   "cell_type": "code",
   "execution_count": 185,
   "metadata": {},
   "outputs": [
    {
     "name": "stdout",
     "output_type": "stream",
     "text": [
      "-----------------------------------------------------------------------------------------\n",
      "{'Action': 'deposit', 'Amount': 1000, 'Balance': 1100, 'Time': '2025/09/06, 16:32:15'}\n",
      "-----------------------------------------------------------------------------------------\n",
      "{'Action': 'withdraw', 'Amount': 500, 'Balance': 600, 'Time': '2025/09/06, 16:32:15'}\n",
      "-----------------------------------------------------------------------------------------\n",
      "{'Action': 'withdraw', 'Amount': 100, 'Balance': 500, 'Time': '2025/09/06, 16:32:15'}\n",
      "-----------------------------------------------------------------------------------------\n",
      "{'Action': 'deposit', 'Amount': 1000, 'Balance': 1500, 'Time': '2025/09/06, 16:32:15'}\n"
     ]
    }
   ],
   "source": [
    "my_acc.deposit(1000)\n",
    "my_acc.history()"
   ]
  },
  {
   "cell_type": "code",
   "execution_count": 186,
   "metadata": {},
   "outputs": [
    {
     "name": "stdout",
     "output_type": "stream",
     "text": [
      "-----------------------------------------------------------------------------------------\n",
      "{'Action': 'transfer to Bank account of My Ngoc Truong | Account type: standard | Balance: 1600.', 'Amount': 100, 'Balance': 1900, 'Time': '2025/09/06, 16:32:15'}\n",
      "-----------------------------------------------------------------------------------------\n",
      "{'Action': 'deposit', 'Amount': 1000, 'Balance': 1100, 'Time': '2025/09/06, 16:32:15'}\n",
      "-----------------------------------------------------------------------------------------\n",
      "{'Action': 'withdraw', 'Amount': 500, 'Balance': 600, 'Time': '2025/09/06, 16:32:15'}\n",
      "-----------------------------------------------------------------------------------------\n",
      "{'Action': 'withdraw', 'Amount': 100, 'Balance': 500, 'Time': '2025/09/06, 16:32:15'}\n",
      "-----------------------------------------------------------------------------------------\n",
      "{'Action': 'deposit', 'Amount': 1000, 'Balance': 1500, 'Time': '2025/09/06, 16:32:15'}\n",
      "-----------------------------------------------------------------------------------------\n",
      "{'Action': 'deposit', 'Amount': 100, 'Balance': 1600, 'Time': '2025/09/06, 16:32:15'}\n",
      "-----------------------------------------------------------------------------------------\n",
      "{'Action': 'transfer from Tina Trul', 'Amount': 100, 'Balance': 1600, 'Time': '2025/09/06, 16:32:15'}\n"
     ]
    }
   ],
   "source": [
    "acc_2 = BankAccount(owner=\"Tina Trul\", account_type=\"standard\", balance=2000)\n",
    "acc_2.transfer(target_account=my_acc, amount=100)\n",
    "acc_2.history()\n",
    "my_acc.history()"
   ]
  },
  {
   "cell_type": "code",
   "execution_count": 187,
   "metadata": {},
   "outputs": [
    {
     "data": {
      "text/plain": [
       "1600"
      ]
     },
     "execution_count": 187,
     "metadata": {},
     "output_type": "execute_result"
    }
   ],
   "source": [
    "my_acc.balance\n"
   ]
  },
  {
   "cell_type": "code",
   "execution_count": 188,
   "metadata": {},
   "outputs": [
    {
     "data": {
      "text/plain": [
       "1600"
      ]
     },
     "execution_count": 188,
     "metadata": {},
     "output_type": "execute_result"
    }
   ],
   "source": [
    "my_acc.apply_interest()\n",
    "my_acc.balance\n",
    "#my_acc is a standard account, so no interest applied"
   ]
  },
  {
   "cell_type": "code",
   "execution_count": 189,
   "metadata": {},
   "outputs": [
    {
     "data": {
      "text/plain": [
       "1020.0"
      ]
     },
     "execution_count": 189,
     "metadata": {},
     "output_type": "execute_result"
    }
   ],
   "source": [
    "saving_acc1 = BankAccount(owner=\"Saving Acc1\", account_type=\"savings\", balance=1000)\n",
    "saving_acc1.apply_interest()\n",
    "saving_acc1.balance"
   ]
  },
  {
   "cell_type": "code",
   "execution_count": 190,
   "metadata": {},
   "outputs": [
    {
     "data": {
      "text/plain": [
       "1040.0"
      ]
     },
     "execution_count": 190,
     "metadata": {},
     "output_type": "execute_result"
    }
   ],
   "source": [
    "morgage_acc1 = BankAccount(owner=\"Morgage Acc1\", account_type=\"morgage_loan\", balance=1000)\n",
    "morgage_acc1.apply_interest()\n",
    "morgage_acc1.balance"
   ]
  },
  {
   "cell_type": "code",
   "execution_count": 191,
   "metadata": {},
   "outputs": [
    {
     "data": {
      "text/plain": [
       "1100.0"
      ]
     },
     "execution_count": 191,
     "metadata": {},
     "output_type": "execute_result"
    }
   ],
   "source": [
    "private_loan_acc1 = BankAccount(owner=\"Private Loan Acc1\", account_type=\"private_loan\", balance=1000)\n",
    "private_loan_acc1.apply_interest() \n",
    "private_loan_acc1.balance\n",
    "\n",
    "# maybe make a function or procedureto apply interest for all accounts in a bank class every month/year or something"
   ]
  },
  {
   "cell_type": "code",
   "execution_count": 192,
   "metadata": {},
   "outputs": [],
   "source": [
    "# extended version: bank, create account, get account, total assets, list accounts,\n",
    "class Bank(BankAccount):\n",
    "    def __init__(self, bank_name =\"My madeup bank\"):\n",
    "        #self.super().__init__()\n",
    "        self.accounts = []\n",
    "    \n",
    "    def create_account(self, owner, account_type, balance=0):\n",
    "        new_acc = BankAccount(owner, account_type, balance)\n",
    "        self.accounts.append(new_acc)\n",
    "        return new_acc\n",
    "    \n",
    "    def get_account(self, owner_name):\n",
    "        for acc in self.accounts:\n",
    "            if acc.owner == owner_name:\n",
    "                return acc\n",
    "        else: \n",
    "            return \"Account not found\"\n",
    "    \n",
    "    def total_assets(self):\n",
    "        total = 0\n",
    "        for acc in self.accounts:\n",
    "            total += acc.balance\n",
    "        return total\n",
    "    \n",
    "    def list_accounts(self):\n",
    "        for acc in self.accounts:\n",
    "            print(acc)"
   ]
  },
  {
   "cell_type": "code",
   "execution_count": 193,
   "metadata": {},
   "outputs": [
    {
     "name": "stdout",
     "output_type": "stream",
     "text": [
      "Bank account of My Ngoc Truong | Account type: standard | Balance: 1000.\n",
      "Bank account of Tina Trul | Account type: savings | Balance: 2000.\n",
      "Bank account of Morgage Acc1 | Account type: morgage_loan | Balance: 3000.\n",
      "Bank account of Private Loan Acc1 | Account type: private_loan | Balance: 4000.\n"
     ]
    }
   ],
   "source": [
    "bank1 = Bank(\"My madeup bank\")\n",
    "acc_1 = bank1.create_account(\"My Ngoc Truong\", \"standard\", 1000)\n",
    "acc_2 = bank1.create_account(\"Tina Trul\", \"savings\", 2000)\n",
    "acc_3 = bank1.create_account(\"Morgage Acc1\", \"morgage_loan\", 3000)\n",
    "acc_4 = bank1.create_account(\"Private Loan Acc1\", \"private_loan\", 4000)\n",
    "bank1.list_accounts()"
   ]
  },
  {
   "cell_type": "code",
   "execution_count": 194,
   "metadata": {},
   "outputs": [
    {
     "data": {
      "text/plain": [
       "<__main__.BankAccount at 0x26158f9fa40>"
      ]
     },
     "execution_count": 194,
     "metadata": {},
     "output_type": "execute_result"
    }
   ],
   "source": [
    "bank1.get_account(\"My Ngoc Truong\")"
   ]
  },
  {
   "cell_type": "code",
   "execution_count": 195,
   "metadata": {},
   "outputs": [
    {
     "data": {
      "text/plain": [
       "10000"
      ]
     },
     "execution_count": 195,
     "metadata": {},
     "output_type": "execute_result"
    }
   ],
   "source": [
    "bank1.total_assets()"
   ]
  },
  {
   "cell_type": "code",
   "execution_count": 196,
   "metadata": {},
   "outputs": [
    {
     "name": "stdout",
     "output_type": "stream",
     "text": [
      "Bank account of My Ngoc Truong | Account type: standard | Balance: 1000.\n"
     ]
    }
   ],
   "source": [
    "print(acc_1)"
   ]
  },
  {
   "cell_type": "code",
   "execution_count": 197,
   "metadata": {},
   "outputs": [
    {
     "data": {
      "text/plain": [
       "1100"
      ]
     },
     "execution_count": 197,
     "metadata": {},
     "output_type": "execute_result"
    }
   ],
   "source": [
    "acc_1.deposit(100)\n",
    "acc_1.balance"
   ]
  },
  {
   "cell_type": "code",
   "execution_count": 198,
   "metadata": {},
   "outputs": [],
   "source": [
    "acc_1.transfer(acc_2, 500)"
   ]
  },
  {
   "cell_type": "code",
   "execution_count": 199,
   "metadata": {},
   "outputs": [
    {
     "data": {
      "text/plain": [
       "2500"
      ]
     },
     "execution_count": 199,
     "metadata": {},
     "output_type": "execute_result"
    }
   ],
   "source": [
    "acc_2.balance"
   ]
  },
  {
   "cell_type": "code",
   "execution_count": 200,
   "metadata": {},
   "outputs": [
    {
     "name": "stdout",
     "output_type": "stream",
     "text": [
      "-----------------------------------------------------------------------------------------\n",
      "{'Action': 'deposit', 'Amount': 500, 'Balance': 2500, 'Time': '2025/09/06, 16:32:16'}\n",
      "-----------------------------------------------------------------------------------------\n",
      "{'Action': 'transfer from My Ngoc Truong', 'Amount': 500, 'Balance': 2500, 'Time': '2025/09/06, 16:32:16'}\n"
     ]
    }
   ],
   "source": [
    "acc_2.history()"
   ]
  },
  {
   "cell_type": "code",
   "execution_count": 201,
   "metadata": {},
   "outputs": [
    {
     "data": {
      "text/plain": [
       "3120.0"
      ]
     },
     "execution_count": 201,
     "metadata": {},
     "output_type": "execute_result"
    }
   ],
   "source": [
    "acc_3.apply_interest()\n",
    "acc_3.balance"
   ]
  },
  {
   "cell_type": "code",
   "execution_count": null,
   "metadata": {},
   "outputs": [],
   "source": []
  }
 ],
 "metadata": {
  "kernelspec": {
   "display_name": "base",
   "language": "python",
   "name": "python3"
  },
  "language_info": {
   "codemirror_mode": {
    "name": "ipython",
    "version": 3
   },
   "file_extension": ".py",
   "mimetype": "text/x-python",
   "name": "python",
   "nbconvert_exporter": "python",
   "pygments_lexer": "ipython3",
   "version": "3.12.7"
  }
 },
 "nbformat": 4,
 "nbformat_minor": 2
}
